{
  "nbformat": 4,
  "nbformat_minor": 0,
  "metadata": {
    "colab": {
      "provenance": []
    },
    "kernelspec": {
      "name": "python3",
      "display_name": "Python 3"
    },
    "language_info": {
      "name": "python"
    }
  },
  "cells": [
    {
      "cell_type": "code",
      "execution_count": 1,
      "metadata": {
        "colab": {
          "base_uri": "https://localhost:8080/"
        },
        "id": "E6NJVqPxL0jh",
        "outputId": "7649a0b8-68dd-4d9b-deff-27860dc66236"
      },
      "outputs": [
        {
          "output_type": "stream",
          "name": "stdout",
          "text": [
            "عدد اول را وارد کنید: 20\n",
            "عدد دوم را وارد کنید: 10\n",
            "جمع: 30.0\n",
            "تفریق: 10.0\n",
            "ضرب: 200.0\n",
            "تقسیم: 2.0\n"
          ]
        }
      ],
      "source": [
        "def calculator():\n",
        "    num1 = float(input(\"عدد اول را وارد کنید: \"))\n",
        "    num2 = float(input(\"عدد دوم را وارد کنید: \"))\n",
        "    sum_result = num1 + num2\n",
        "    subtract_result = num1 - num2\n",
        "    multiply_result = num1 * num2\n",
        "    if num2 != 0:\n",
        "        divide_result = num1 / num2\n",
        "    else:\n",
        "        divide_result = \"تقسیم بر صفر تعریف نشده است!\"\n",
        "    print(f\"جمع: {sum_result}\")\n",
        "    print(f\"تفریق: {subtract_result}\")\n",
        "    print(f\"ضرب: {multiply_result}\")\n",
        "    print(f\"تقسیم: {divide_result}\")\n",
        "calculator()"
      ]
    }
  ]
}