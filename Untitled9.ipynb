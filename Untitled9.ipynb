{
  "nbformat": 4,
  "nbformat_minor": 0,
  "metadata": {
    "colab": {
      "provenance": []
    },
    "kernelspec": {
      "name": "python3",
      "display_name": "Python 3"
    },
    "language_info": {
      "name": "python"
    }
  },
  "cells": [
    {
      "cell_type": "code",
      "execution_count": 3,
      "metadata": {
        "colab": {
          "base_uri": "https://localhost:8080/"
        },
        "id": "hHG2aLkCOaK1",
        "outputId": "771ec573-d9a2-4440-fee9-15517a633c2d"
      },
      "outputs": [
        {
          "output_type": "stream",
          "name": "stdout",
          "text": [
            "مبلغ مورد نظر برای پس انداز را وارد کنید: 200\n",
            "مقدار پس انداز شده را وارد کنید: 200\n",
            "مبلغ پس انداز شده تا کنون: 200.00 از 200.00\n",
            "تبریک! شما به هدف پس انداز خود رسیدید.\n"
          ]
        }
      ],
      "source": [
        "def smart_savings_system():\n",
        "    target_amount = float(input(\"مبلغ مورد نظر برای پس انداز را وارد کنید: \"))\n",
        "    saved_amount = 0.0\n",
        "    while saved_amount < target_amount:\n",
        "        amount = float(input(\"مقدار پس انداز شده را وارد کنید: \"))\n",
        "        saved_amount += amount\n",
        "        print(f\"مبلغ پس انداز شده تا کنون: {saved_amount:.2f} از {target_amount:.2f}\")\n",
        "\n",
        "    print(\"تبریک! شما به هدف پس انداز خود رسیدید.\")\n",
        "smart_savings_system()"
      ]
    }
  ]
}