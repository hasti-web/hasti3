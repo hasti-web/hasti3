{
  "nbformat": 4,
  "nbformat_minor": 0,
  "metadata": {
    "colab": {
      "provenance": []
    },
    "kernelspec": {
      "name": "python3",
      "display_name": "Python 3"
    },
    "language_info": {
      "name": "python"
    }
  },
  "cells": [
    {
      "cell_type": "code",
      "execution_count": null,
      "metadata": {
        "colab": {
          "base_uri": "https://localhost:8080/"
        },
        "id": "DPJeOhdpM1E5",
        "outputId": "b0d670c3-6d80-4328-c949-975af50f4461"
      },
      "outputs": [
        {
          "output_type": "stream",
          "name": "stdout",
          "text": [
            "محصولی که می‌خواهید اضافه کنید را وارد کنید (برای پایان 'exit' را وارد کنید): موز\n",
            "موز به لیست خرید اضافه شد.\n",
            "محصولی که می‌خواهید اضافه کنید را وارد کنید (برای پایان 'exit' را وارد کنید): موز\n",
            "موز قبلاً در لیست خرید وجود دارد.\n"
          ]
        }
      ],
      "source": [
        "def smart_shopping_list():\n",
        "    shopping_list = []\n",
        "\n",
        "    while True:\n",
        "        item = input(\"محصولی که می‌خواهید اضافه کنید را وارد کنید (برای پایان 'exit' را وارد کنید): \").strip()\n",
        "\n",
        "        if item.lower() == 'exit':\n",
        "            break\n",
        "        if item not in shopping_list:\n",
        "            shopping_list.append(item)\n",
        "            print(f\"{item} به لیست خرید اضافه شد.\")\n",
        "        else:\n",
        "            print(f\"{item} قبلاً در لیست خرید وجود دارد.\")\n",
        "    print(\"\\nلیست نهایی خرید:\")\n",
        "    for product in shopping_list:\n",
        "        print(f\"- {product}\")\n",
        "smart_shopping_list()"
      ]
    }
  ]
}